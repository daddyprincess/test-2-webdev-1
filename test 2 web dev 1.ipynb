{
 "cells": [
  {
   "cell_type": "markdown",
   "id": "4caa20c9-df44-45fe-a9fa-9ee97c4696a9",
   "metadata": {},
   "source": [
    "## 1.CSS positions"
   ]
  },
  {
   "cell_type": "markdown",
   "id": "0769a728-0c0f-49fc-a360-5edeb2c3d356",
   "metadata": {},
   "source": [
    "### static"
   ]
  },
  {
   "cell_type": "code",
   "execution_count": null,
   "id": "3e5f2a56-aded-433f-ba2f-7f05d694d982",
   "metadata": {},
   "outputs": [],
   "source": [
    "-The default position value for an element.\n",
    "-Elements with position: static are positioned according to the normal flow of the document.\n",
    "-Top, right, bottom, and left properties have no effect on statically positioned elements."
   ]
  },
  {
   "cell_type": "code",
   "execution_count": null,
   "id": "f1556a70-5df5-4371-9a06-1d86fca4c71a",
   "metadata": {},
   "outputs": [],
   "source": [
    "<div class=\"static-position\">\n",
    "  This is a statically positioned element.\n",
    "</div>\n"
   ]
  },
  {
   "cell_type": "code",
   "execution_count": null,
   "id": "afb14fcb-7a5f-408a-b438-9cf523d50170",
   "metadata": {},
   "outputs": [],
   "source": [
    ".static-position {\n",
    "  position: static;\n",
    "}"
   ]
  },
  {
   "cell_type": "markdown",
   "id": "9666c7a6-3060-4095-a5b7-2a988b5742d5",
   "metadata": {},
   "source": [
    "### fixed"
   ]
  },
  {
   "cell_type": "code",
   "execution_count": null,
   "id": "fa99ce05-dc60-42a5-be15-92c18667eb17",
   "metadata": {},
   "outputs": [],
   "source": [
    "-The element is positioned relative to the viewport (browser window).\n",
    "-It will not move even if the page is scrolled.\n",
    "-Fixed elements are removed from the normal document flow."
   ]
  },
  {
   "cell_type": "code",
   "execution_count": null,
   "id": "8bf0c550-779c-4e36-8b9b-d4b0e324e73c",
   "metadata": {},
   "outputs": [],
   "source": [
    "#### HTML"
   ]
  },
  {
   "cell_type": "code",
   "execution_count": null,
   "id": "91b0021a-3116-4d63-85bb-5acf98ab9820",
   "metadata": {},
   "outputs": [],
   "source": [
    "<div class=\"fixed-position\">\n",
    "  This is a fixed positioned element.\n",
    "</div>\n"
   ]
  },
  {
   "cell_type": "code",
   "execution_count": null,
   "id": "58d25b52-78cc-49fa-a034-7420eb67927d",
   "metadata": {},
   "outputs": [],
   "source": [
    "#### CSS"
   ]
  },
  {
   "cell_type": "code",
   "execution_count": null,
   "id": "ae34a9fc-a6b1-49fb-9f72-00639b1a6224",
   "metadata": {},
   "outputs": [],
   "source": [
    ".fixed-position {\n",
    "  position: fixed;\n",
    "  top: 20px;\n",
    "  left: 20px;\n",
    "}"
   ]
  },
  {
   "cell_type": "markdown",
   "id": "056cd2ae-9461-4f10-93fb-826af3cbb25a",
   "metadata": {},
   "source": [
    "### sticky"
   ]
  },
  {
   "cell_type": "code",
   "execution_count": null,
   "id": "4382f709-ad32-4ce8-a308-b1f704448ff1",
   "metadata": {},
   "outputs": [],
   "source": [
    "The element is positioned based on the user's scroll position.\n",
    "It acts like position: relative until the element reaches a specified threshold, then it becomes position: fixed.\n",
    "When the user scrolls past the threshold, the element becomes fixed to a specified position on the screen."
   ]
  },
  {
   "cell_type": "code",
   "execution_count": null,
   "id": "a9ba4929-58c4-41d2-9214-6a33aeaaa26b",
   "metadata": {},
   "outputs": [],
   "source": [
    "#### HTML"
   ]
  },
  {
   "cell_type": "code",
   "execution_count": null,
   "id": "5a857bf9-8e42-4408-adb9-7d50884702e0",
   "metadata": {},
   "outputs": [],
   "source": [
    "<div class=\"sticky-position\">\n",
    "  This is a sticky positioned element.\n",
    "</div>"
   ]
  },
  {
   "cell_type": "code",
   "execution_count": null,
   "id": "4ba7a309-819e-412b-88c0-a18a93131156",
   "metadata": {},
   "outputs": [],
   "source": [
    "#### CSS"
   ]
  },
  {
   "cell_type": "code",
   "execution_count": null,
   "id": "56cc8949-81f0-4f93-9f9d-e1c57e41a67f",
   "metadata": {},
   "outputs": [],
   "source": [
    ".sticky-position {\n",
    "  position: sticky;\n",
    "  top: 50px;\n",
    "}"
   ]
  },
  {
   "cell_type": "markdown",
   "id": "697b9b1e-13a0-48fc-be5a-60223b8f6253",
   "metadata": {},
   "source": [
    "### relatives"
   ]
  },
  {
   "cell_type": "code",
   "execution_count": null,
   "id": "b9a072f7-c54d-42af-a3ee-374b19cc59ea",
   "metadata": {},
   "outputs": [],
   "source": [
    "-The element is positioned relative to its normal position.\n",
    "-It still takes up space in the normal flow of the document.\n",
    "-Relative positioning allows you to adjust an element's position using the top, right, bottom, and left properties."
   ]
  },
  {
   "cell_type": "markdown",
   "id": "e51f5139-fec1-46e6-8214-6c13419aabab",
   "metadata": {},
   "source": [
    "#### HTML"
   ]
  },
  {
   "cell_type": "code",
   "execution_count": null,
   "id": "0a113bf7-d6be-4105-bf6f-2aba56dc64c3",
   "metadata": {},
   "outputs": [],
   "source": [
    "<div class=\"relative-position\">\n",
    "  This is a relatively positioned element.\n",
    "</div>"
   ]
  },
  {
   "cell_type": "markdown",
   "id": "dbaee5d1-cb4c-49fe-9dbf-ffbae11793fe",
   "metadata": {},
   "source": [
    "#### CSS"
   ]
  },
  {
   "cell_type": "code",
   "execution_count": null,
   "id": "09383a98-55b9-4990-af84-7477b2aa75b6",
   "metadata": {},
   "outputs": [],
   "source": [
    ".relative-position {\n",
    "  position: relative;\n",
    "  top: 10px;\n",
    "  left: 20px;\n",
    "}"
   ]
  },
  {
   "cell_type": "markdown",
   "id": "f84c5397-5e41-4874-b195-33620bc1510e",
   "metadata": {},
   "source": [
    "### absolute"
   ]
  },
  {
   "cell_type": "code",
   "execution_count": null,
   "id": "fb4f6cb5-cecc-4cc7-9c9e-4c68856a30cf",
   "metadata": {},
   "outputs": [],
   "source": [
    "-The element is positioned relative to its nearest positioned ancestor (any ancestor with a position other than static) \n",
    " or the initial containing block if no positioned ancestor is found.\n",
    "-Absolute positioned elements are removed from the normal flow of the document.\n",
    "-The top, right, bottom, and left properties can be used to specify the exact position of the element"
   ]
  },
  {
   "cell_type": "markdown",
   "id": "53673bb0-9b71-45ec-b33b-2392f748386f",
   "metadata": {},
   "source": [
    "#### HTML"
   ]
  },
  {
   "cell_type": "code",
   "execution_count": null,
   "id": "3c798a3c-a77b-45aa-bbdf-0aa18d4ae3e9",
   "metadata": {},
   "outputs": [],
   "source": [
    "<div class=\"parent-container\">\n",
    "  <div class=\"absolute-position\">\n",
    "    This is an absolutely positioned element.\n",
    "  </div>\n",
    "</div>"
   ]
  },
  {
   "cell_type": "markdown",
   "id": "f3685ae0-92a1-43a9-8ce6-656c3cb2e150",
   "metadata": {},
   "source": [
    "#### CSS"
   ]
  },
  {
   "cell_type": "code",
   "execution_count": null,
   "id": "f4973612-6b65-4161-b994-35e4720aafa8",
   "metadata": {},
   "outputs": [],
   "source": [
    ".parent-container {\n",
    "  position: relative;\n",
    "}\n",
    "\n",
    ".absolute-position {\n",
    "  position: absolute;\n",
    "  top: 20px;\n",
    "  right: 20px;\n",
    "}"
   ]
  },
  {
   "cell_type": "code",
   "execution_count": null,
   "id": "bc36ce95-2085-46db-b1eb-e64114b2cf63",
   "metadata": {},
   "outputs": [],
   "source": []
  },
  {
   "cell_type": "code",
   "execution_count": null,
   "id": "2aa4b85b-840e-49a9-9f2b-2fb0e1282b7c",
   "metadata": {},
   "outputs": [],
   "source": []
  }
 ],
 "metadata": {
  "kernelspec": {
   "display_name": "Python 3 (ipykernel)",
   "language": "python",
   "name": "python3"
  },
  "language_info": {
   "codemirror_mode": {
    "name": "ipython",
    "version": 3
   },
   "file_extension": ".py",
   "mimetype": "text/x-python",
   "name": "python",
   "nbconvert_exporter": "python",
   "pygments_lexer": "ipython3",
   "version": "3.10.8"
  }
 },
 "nbformat": 4,
 "nbformat_minor": 5
}
